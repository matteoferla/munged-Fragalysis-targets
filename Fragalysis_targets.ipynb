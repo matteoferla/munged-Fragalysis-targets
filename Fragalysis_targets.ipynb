{
 "cells": [
  {
   "cell_type": "markdown",
   "id": "66158277-a812-4f93-8bf6-551d5f49e10d",
   "metadata": {},
   "source": [
    "## Get _public_ targets\n",
    "\n",
    "The dataframe `target_data` contains a few details, such as sequence."
   ]
  },
  {
   "cell_type": "code",
   "execution_count": null,
   "id": "bc374fd7-0b4a-4dcb-920d-2da51d0d0ba7",
   "metadata": {},
   "outputs": [],
   "source": [
    "import requests\n",
    "import pandas as pd\n",
    "from typing import List, Dict\n",
    "\n",
    "base_url = 'https://fragalysis.diamond.ac.uk/api'\n",
    "response: requests.Response = requests.get(f'{base_url}/targets/')\n",
    "target_data = pd.DataFrame( response.json()['results'] )\n",
    "target_data = target_data.rename(columns={'title': 'code'})"
   ]
  },
  {
   "cell_type": "markdown",
   "id": "980ae614-910f-46a1-ad06-dd10aa706855",
   "metadata": {},
   "source": [
    "## Blast for seq to Uniprot"
   ]
  },
  {
   "cell_type": "code",
   "execution_count": 1,
   "id": "8241e062-c596-4abc-a995-3faa8f89be70",
   "metadata": {},
   "outputs": [
    {
     "ename": "IndentationError",
     "evalue": "expected an indented block after class definition on line 49 (3772298184.py, line 50)",
     "output_type": "error",
     "traceback": [
      "\u001b[0;36m  Cell \u001b[0;32mIn[1], line 50\u001b[0;36m\u001b[0m\n\u001b[0;31m    def retrieve_uniprot(uniprot_id):\u001b[0m\n\u001b[0m    ^\u001b[0m\n\u001b[0;31mIndentationError\u001b[0m\u001b[0;31m:\u001b[0m expected an indented block after class definition on line 49\n"
     ]
    }
   ],
   "source": [
    "import re, operator, pickle\n",
    "from Bio.Blast import NCBIXML\n",
    "from Bio.Blast import NCBIWWW\n",
    "from Bio.Blast import Record\n",
    "from typing import List, Dict, Iterator\n",
    "\n",
    "def blast(sequence, all_records) -> List[Record.Blast]:\n",
    "    if not sequence:\n",
    "        return []\n",
    "    if sequence in all_records:\n",
    "        return all_records[sequence]\n",
    "    blasted: io.StringIO = NCBIWWW.qblast(program='blastp', \n",
    "                                        database='swissprot', #'refseq_protein', \n",
    "                                        sequence=sequence,\n",
    "                                       )\n",
    "    records: List[Record.Blast] = list(NCBIXML.parse(blasted))\n",
    "    all_records[sequence] = records\n",
    "    return records\n",
    "\n",
    "def parse_alignment(alignment: Record.Alignment):\n",
    "    # record.alignments[0]\n",
    "    hsp: Record.HSP = alignment.hsps[0]\n",
    "    uniprot_id: str = re.match(r'.*?\\|([^|]*)\\.\\d+\\|', alignment.title).group(1)\n",
    "    species: str = re.search(r'\\[([^\\[]*?)\\]$', alignment.title).group(1)\n",
    "    typology = 'swissprot' if alignment.title[:2] == 'sp' else 'Trembl'\n",
    "    identity = hsp.identities / (hsp.query_end - hsp.query_start + 1) * 100\n",
    "    verdict = hsp.identities + int(species == 'Homo sapiens') * 50 + int(typology == 'swissprot') * 25\n",
    "    return dict(uniprot_id=uniprot_id,\n",
    "                species=species,\n",
    "                database=typology,\n",
    "                identity=identity,\n",
    "                _verdict=verdict,\n",
    "                start=hsp.sbjct_start, end=hsp.sbjct_end)\n",
    "    \n",
    "def get_best_match(records):\n",
    "    if len(records) == 0:\n",
    "        return {}\n",
    "    record = records[0]\n",
    "    return sorted(map(parse_alignment, record.alignments), key=operator.itemgetter('_verdict'),\n",
    "                  reverse=True)[0]"
   ]
  },
  {
   "cell_type": "code",
   "execution_count": null,
   "id": "503420e1-2edd-4b6c-bcd1-c13dc1fc261d",
   "metadata": {},
   "outputs": [],
   "source": [
    "# blast\n",
    "sequence_data = pd.DataFrame([dict(title=row.title, chain=s['chain'], sequence=s['sequence']) for i, row in target_data.iterrows() for s in row.sequences])\n",
    "\n",
    "all_records : Dict[str, List[Record.Blast]] = {}\n",
    "for i, row in sequence_data.iterrows():\n",
    "    all_records[row.sequence] = blast(row.sequence, all_records)\n",
    "\n",
    "print('Blast searches complete...')\n",
    "\n",
    "with open('blast_records.pkl', 'wb') as fh:\n",
    "    pickle.dump(all_records, fh)"
   ]
  },
  {
   "cell_type": "code",
   "execution_count": null,
   "id": "a3a26425-2ee7-4bed-bf96-ed04bd9b158d",
   "metadata": {},
   "outputs": [],
   "source": [
    "info = sequence_data.sequence.apply(lambda seq: all_records[seq]).apply(get_best_match)\n",
    "\n",
    "for k in ['uniprot_id', 'species', 'database']:\n",
    "    sequence_data[k] = info.apply(lambda d: d.get(k, 'unknown'))\n",
    "for k in ['identity', 'start', 'end']:\n",
    "    sequence_data[k] = info.apply(lambda d: d.get(k, -1))\n",
    "sequence_data['range'] = sequence_data.start.astype(str) + '-' + sequence_data.end.astype(str)"
   ]
  },
  {
   "cell_type": "markdown",
   "id": "19a2b6e4-73c9-4388-9214-9709ad044fcc",
   "metadata": {},
   "source": [
    "## Retrieve Uniprot\n",
    "\n",
    "The uniprot info retains the multichain detail... But for now I will simplify."
   ]
  },
  {
   "cell_type": "code",
   "execution_count": null,
   "id": "6bb5e38a-1d4b-418b-89d8-f211040e1c63",
   "metadata": {},
   "outputs": [],
   "source": [
    "import pickle\n",
    "\n",
    "raw_uniprots = {'unknown': {}}\n",
    "\n",
    "def retrieve_uniprot(uniprot_id):\n",
    "    if uniprot_id in raw_uniprots:\n",
    "        return raw_uniprots[uniprot_id]\n",
    "    response = requests.get(f'https://rest.uniprot.org/uniprotkb/{uniprot_id}.json')\n",
    "    response.raise_for_status()\n",
    "    raw_uniprots[uniprot_id] = response.json()\n",
    "    return response.json()\n",
    "\n",
    "sequence_data['uniprot_id'].apply(retrieve_uniprot)\n",
    "\n",
    "with open('raw_uniprots.pkl', 'wb') as fh:\n",
    "    pickle.dump(raw_uniprots, fh)"
   ]
  },
  {
   "cell_type": "code",
   "execution_count": null,
   "id": "e670593b-0a64-459b-b9de-4538de74dca5",
   "metadata": {},
   "outputs": [],
   "source": [
    "from collections import defaultdict\n",
    "\n",
    "sequence_data['length'] = sequence_data.sequence.apply(len)\n",
    "sequence_data['is_primary'] = sequence_data.sort_values('length', ascending=False).drop_duplicates('title').title.apply(len).astype(bool)\n",
    "sequence_data['is_primary'] = sequence_data['is_primary'].fillna(False)\n",
    "\n",
    "primary_chain = {}\n",
    "uniprots = defaultdict(dict)\n",
    "species = defaultdict(dict)\n",
    "ranges = defaultdict(dict)\n",
    "for i, row in sequence_data.iterrows():\n",
    "    if row.is_primary:\n",
    "        primary_chain[row.title] = row.chain\n",
    "    uniprots[row.title][row.chain] = row.uniprot_id\n",
    "    species[row.title][row.chain] = row.species\n",
    "    ranges[row.title][row.chain] = row.range if row.range != '-1--1' else '0-0'\n",
    "    \n",
    "target_data['Number of chains'] = target_data.sequences.apply(len)\n",
    "target_data['primary_chain'] = target_data.title.map(primary_chain)\n",
    "target_data['uniprots'] = target_data.title.map(uniprots)\n",
    "target_data['species'] = target_data.title.map(species)\n",
    "target_data['ranges'] = target_data.title.map(ranges)"
   ]
  },
  {
   "cell_type": "code",
   "execution_count": null,
   "id": "073e15ef-0352-4825-8a87-ae4afc25a404",
   "metadata": {},
   "outputs": [],
   "source": [
    "class Simplifier:\n",
    "    def __init__(self, key):\n",
    "        self.key = key\n",
    "\n",
    "    def __call__(self, row):\n",
    "        return row[self.key][row.primary_chain]\n",
    "\n",
    "target_data['primary_uniprot'] = target_data.apply(Simplifier('uniprots'), axis=1)\n",
    "target_data['primary_range'] = target_data.apply(Simplifier('ranges'), axis=1)\n",
    "target_data['primary_species'] = target_data.apply(Simplifier('species'), axis=1)"
   ]
  },
  {
   "cell_type": "code",
   "execution_count": null,
   "id": "844a4f4b-25e3-428e-98e6-09539e52e954",
   "metadata": {},
   "outputs": [],
   "source": [
    "import datetime as dt\n",
    "\n",
    "def get_recommended(d):\n",
    "    try:\n",
    "        return d['proteinDescription']['recommendedName']['fullName']['value']\n",
    "    except Exception:\n",
    "        return ''\n",
    "\n",
    "def get_gene(d):\n",
    "    try:\n",
    "        return d['genes'][0]['geneName']['value']\n",
    "    except Exception:\n",
    "        return ''\n",
    "\n",
    "def get_ec(d):\n",
    "    try:\n",
    "        return ';'.join([e['value'] for e in d['proteinDescription']['recommendedName']['ecNumbers']])\n",
    "    except Exception:\n",
    "        return ''\n",
    "    \n",
    "def get_domains(row):\n",
    "    d = raw_uniprots.get(row.primary_uniprot, {})\n",
    "    if not d:\n",
    "        return ''\n",
    "    domains = []\n",
    "    if 'features' not in d:\n",
    "        return ''\n",
    "    target_start, target_end = list(map(int, row.primary_range.split('-')))\n",
    "    for feat in d['features']:\n",
    "        if feat['type'] != 'Domain':\n",
    "            continue\n",
    "        start = feat['location']['start']['value']\n",
    "        end = feat['location']['end']['value']\n",
    "        if not(target_start <= end and target_end >= start):\n",
    "            continue\n",
    "        domains.append((feat['description'], end-start))\n",
    "    return ', '.join(map(operator.itemgetter(0), sorted(domains, key=lambda d: d[1])))"
   ]
  },
  {
   "cell_type": "code",
   "execution_count": null,
   "id": "3b953605-a516-4be6-8c07-a1398252ecb2",
   "metadata": {},
   "outputs": [],
   "source": [
    "target_data['primary_protein_name'] = uniprot_series.apply(get_recommended)\n",
    "target_data['primary_gene_name'] = uniprot_series.apply(get_gene)\n",
    "target_data['primary_species_id'] = uniprot_series.apply(lambda d: d.get('organism', {}).get('taxonId', None)).fillna(-1).astype(int)\n",
    "target_data['N hits'] = 0\n",
    "target_data['Date last edit'] = dt.datetime.min.isoformat()\n",
    "target_data['Version ID'] = '0.0'\n",
    "target_data['primary_EC_number'] = uniprot_series.apply(get_ec)\n",
    "target_data['primary_domain'] = target_data.apply(get_domains, axis=1)"
   ]
  },
  {
   "cell_type": "code",
   "execution_count": null,
   "id": "9b375a92-82a1-4ab8-bba8-6e8423d3f28b",
   "metadata": {},
   "outputs": [],
   "source": [
    "keys = ['id', 'title', 'Number of chains', 'primary_chain', 'primary_uniprot', 'primary_range',\n",
    "        'primary_protein_name', 'primary_gene_name',\n",
    "       'primary_species', 'primary_species_id', \n",
    "       'primary_domain','primary_EC_number',\n",
    "       'N hits', 'Date last edit', 'Version ID']\n",
    "simple = target_data[keys]\\\n",
    "        .copy()\\\n",
    "        .rename(columns={**{k: k.replace('primary_','').capitalize().replace('_', ' ') for k in keys}, 'primary_chain': 'Primary chain', 'title': 'Code'})\n",
    "\n",
    "simple.to_csv('simple_values.csv', index=False)"
   ]
  }
 ],
 "metadata": {
  "kernelspec": {
   "display_name": "Python [conda env:py310]",
   "language": "python",
   "name": "conda-env-py310-py"
  },
  "language_info": {
   "codemirror_mode": {
    "name": "ipython",
    "version": 3
   },
   "file_extension": ".py",
   "mimetype": "text/x-python",
   "name": "python",
   "nbconvert_exporter": "python",
   "pygments_lexer": "ipython3",
   "version": "3.10.10"
  }
 },
 "nbformat": 4,
 "nbformat_minor": 5
}
